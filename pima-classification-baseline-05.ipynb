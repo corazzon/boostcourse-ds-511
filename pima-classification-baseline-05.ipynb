{
 "cells": [
  {
   "cell_type": "markdown",
   "metadata": {},
   "source": [
    "[![Open In Colab](https://colab.research.google.com/assets/colab-badge.svg)](https://colab.research.google.com/github/corazzon/boostcourse-ds-511/blob/master/pima-classification-baseline-05.ipynb)\n",
    "\n",
    "\n",
    "## 데이터셋 출처\n",
    "* [Pima Indians Diabetes Database | Kaggle](https://www.kaggle.com/uciml/pima-indians-diabetes-database)\n",
    "* https://scikit-learn.org/stable/modules/generated/sklearn.datasets.load_diabetes.html\n",
    "\n",
    "\n",
    "### 데이터 구성\n",
    "\n",
    "* Pregnancies : 임신 횟수\n",
    "* Glucose : 2시간 동안의 경구 포도당 내성 검사에서 혈장 포도당 농도 \n",
    "* BloodPressure : 이완기 혈압 (mm Hg)\n",
    "* SkinThickness : 삼두근 피부 주름 두께 (mm), 체지방을 추정하는데 사용되는 값\n",
    "* Insulin : 2시간 혈청 인슐린 (mu U / ml)\n",
    "* BMI : 체질량 지수 (체중kg / 키(m)^2)\n",
    "* DiabetesPedigreeFunction : 당뇨병 혈통 기능\n",
    "* Age : 나이\n",
    "* Outcome : 768개 중에 268개의 결과 클래스 변수(0 또는 1)는 1이고 나머지는 0입니다.\n",
    "\n",
    "\n",
    "## 필요한 라이브러리 로드"
   ]
  },
  {
   "cell_type": "code",
   "execution_count": 1,
   "metadata": {},
   "outputs": [],
   "source": [
    "# 데이터 분석을 위한 pandas, 수치계산을 위한 numpy\n",
    "# 시각화를 위한 seaborn, matplotlib.pyplot 을 로드합니다. \n",
    "\n",
    "import pandas as pd\n",
    "import numpy as np\n",
    "import seaborn as sns\n",
    "import matplotlib.pyplot as plt\n",
    "\n",
    "%matplotlib inline"
   ]
  },
  {
   "cell_type": "markdown",
   "metadata": {},
   "source": [
    "## 데이터셋 로드"
   ]
  },
  {
   "cell_type": "code",
   "execution_count": 2,
   "metadata": {},
   "outputs": [
    {
     "data": {
      "text/plain": [
       "(768, 16)"
      ]
     },
     "execution_count": 2,
     "metadata": {},
     "output_type": "execute_result"
    }
   ],
   "source": [
    "df = pd.read_csv(\"data/diabetes_feature.csv\")\n",
    "df.shape"
   ]
  },
  {
   "cell_type": "code",
   "execution_count": 3,
   "metadata": {},
   "outputs": [
    {
     "data": {
      "text/html": [
       "<div>\n",
       "<style scoped>\n",
       "    .dataframe tbody tr th:only-of-type {\n",
       "        vertical-align: middle;\n",
       "    }\n",
       "\n",
       "    .dataframe tbody tr th {\n",
       "        vertical-align: top;\n",
       "    }\n",
       "\n",
       "    .dataframe thead th {\n",
       "        text-align: right;\n",
       "    }\n",
       "</style>\n",
       "<table border=\"1\" class=\"dataframe\">\n",
       "  <thead>\n",
       "    <tr style=\"text-align: right;\">\n",
       "      <th></th>\n",
       "      <th>Pregnancies</th>\n",
       "      <th>Glucose</th>\n",
       "      <th>BloodPressure</th>\n",
       "      <th>SkinThickness</th>\n",
       "      <th>Insulin</th>\n",
       "      <th>BMI</th>\n",
       "      <th>DiabetesPedigreeFunction</th>\n",
       "      <th>Age</th>\n",
       "      <th>Outcome</th>\n",
       "      <th>Pregnancies_high</th>\n",
       "      <th>Age_low</th>\n",
       "      <th>Age_middle</th>\n",
       "      <th>Age_high</th>\n",
       "      <th>Insulin_nan</th>\n",
       "      <th>Insulin_log</th>\n",
       "      <th>low_glu_insulin</th>\n",
       "    </tr>\n",
       "  </thead>\n",
       "  <tbody>\n",
       "    <tr>\n",
       "      <th>0</th>\n",
       "      <td>6</td>\n",
       "      <td>148</td>\n",
       "      <td>72</td>\n",
       "      <td>35</td>\n",
       "      <td>0</td>\n",
       "      <td>33.6</td>\n",
       "      <td>0.627</td>\n",
       "      <td>50</td>\n",
       "      <td>1</td>\n",
       "      <td>False</td>\n",
       "      <td>False</td>\n",
       "      <td>True</td>\n",
       "      <td>False</td>\n",
       "      <td>169.5</td>\n",
       "      <td>5.138735</td>\n",
       "      <td>False</td>\n",
       "    </tr>\n",
       "    <tr>\n",
       "      <th>1</th>\n",
       "      <td>1</td>\n",
       "      <td>85</td>\n",
       "      <td>66</td>\n",
       "      <td>29</td>\n",
       "      <td>0</td>\n",
       "      <td>26.6</td>\n",
       "      <td>0.351</td>\n",
       "      <td>31</td>\n",
       "      <td>0</td>\n",
       "      <td>False</td>\n",
       "      <td>False</td>\n",
       "      <td>True</td>\n",
       "      <td>False</td>\n",
       "      <td>102.5</td>\n",
       "      <td>4.639572</td>\n",
       "      <td>True</td>\n",
       "    </tr>\n",
       "    <tr>\n",
       "      <th>2</th>\n",
       "      <td>8</td>\n",
       "      <td>183</td>\n",
       "      <td>64</td>\n",
       "      <td>0</td>\n",
       "      <td>0</td>\n",
       "      <td>23.3</td>\n",
       "      <td>0.672</td>\n",
       "      <td>32</td>\n",
       "      <td>1</td>\n",
       "      <td>True</td>\n",
       "      <td>False</td>\n",
       "      <td>True</td>\n",
       "      <td>False</td>\n",
       "      <td>169.5</td>\n",
       "      <td>5.138735</td>\n",
       "      <td>False</td>\n",
       "    </tr>\n",
       "    <tr>\n",
       "      <th>3</th>\n",
       "      <td>1</td>\n",
       "      <td>89</td>\n",
       "      <td>66</td>\n",
       "      <td>23</td>\n",
       "      <td>94</td>\n",
       "      <td>28.1</td>\n",
       "      <td>0.167</td>\n",
       "      <td>21</td>\n",
       "      <td>0</td>\n",
       "      <td>False</td>\n",
       "      <td>True</td>\n",
       "      <td>False</td>\n",
       "      <td>False</td>\n",
       "      <td>94.0</td>\n",
       "      <td>4.553877</td>\n",
       "      <td>True</td>\n",
       "    </tr>\n",
       "    <tr>\n",
       "      <th>4</th>\n",
       "      <td>0</td>\n",
       "      <td>137</td>\n",
       "      <td>40</td>\n",
       "      <td>35</td>\n",
       "      <td>168</td>\n",
       "      <td>43.1</td>\n",
       "      <td>2.288</td>\n",
       "      <td>33</td>\n",
       "      <td>1</td>\n",
       "      <td>False</td>\n",
       "      <td>False</td>\n",
       "      <td>True</td>\n",
       "      <td>False</td>\n",
       "      <td>168.0</td>\n",
       "      <td>5.129899</td>\n",
       "      <td>False</td>\n",
       "    </tr>\n",
       "  </tbody>\n",
       "</table>\n",
       "</div>"
      ],
      "text/plain": [
       "   Pregnancies  Glucose  BloodPressure  SkinThickness  Insulin   BMI  \\\n",
       "0            6      148             72             35        0  33.6   \n",
       "1            1       85             66             29        0  26.6   \n",
       "2            8      183             64              0        0  23.3   \n",
       "3            1       89             66             23       94  28.1   \n",
       "4            0      137             40             35      168  43.1   \n",
       "\n",
       "   DiabetesPedigreeFunction  Age  Outcome  Pregnancies_high  Age_low  \\\n",
       "0                     0.627   50        1             False    False   \n",
       "1                     0.351   31        0             False    False   \n",
       "2                     0.672   32        1              True    False   \n",
       "3                     0.167   21        0             False     True   \n",
       "4                     2.288   33        1             False    False   \n",
       "\n",
       "   Age_middle  Age_high  Insulin_nan  Insulin_log  low_glu_insulin  \n",
       "0        True     False        169.5     5.138735            False  \n",
       "1        True     False        102.5     4.639572             True  \n",
       "2        True     False        169.5     5.138735            False  \n",
       "3       False     False         94.0     4.553877             True  \n",
       "4        True     False        168.0     5.129899            False  "
      ]
     },
     "execution_count": 3,
     "metadata": {},
     "output_type": "execute_result"
    }
   ],
   "source": [
    "# 데이터셋을 미리보기 합니다.\n",
    "\n",
    "df.head()"
   ]
  },
  {
   "cell_type": "markdown",
   "metadata": {},
   "source": [
    "## 학습과 예측에 사용할 데이터셋 만들기"
   ]
  },
  {
   "cell_type": "code",
   "execution_count": 4,
   "metadata": {},
   "outputs": [
    {
     "data": {
      "text/plain": [
       "Index(['Pregnancies', 'Glucose', 'BloodPressure', 'SkinThickness', 'Insulin',\n",
       "       'BMI', 'DiabetesPedigreeFunction', 'Age', 'Outcome', 'Pregnancies_high',\n",
       "       'Age_low', 'Age_middle', 'Age_high', 'Insulin_nan', 'Insulin_log',\n",
       "       'low_glu_insulin'],\n",
       "      dtype='object')"
      ]
     },
     "execution_count": 4,
     "metadata": {},
     "output_type": "execute_result"
    }
   ],
   "source": [
    "df.columns"
   ]
  },
  {
   "cell_type": "code",
   "execution_count": 5,
   "metadata": {},
   "outputs": [
    {
     "data": {
      "text/plain": [
       "(768, 9)"
      ]
     },
     "execution_count": 5,
     "metadata": {},
     "output_type": "execute_result"
    }
   ],
   "source": [
    "X = df[['Glucose', 'BloodPressure', 'SkinThickness',\n",
    "       'BMI', 'DiabetesPedigreeFunction', 'Age', 'Pregnancies_high',\n",
    "       'Insulin_nan', 'low_glu_insulin']]\n",
    "X.shape"
   ]
  },
  {
   "cell_type": "code",
   "execution_count": 6,
   "metadata": {},
   "outputs": [
    {
     "data": {
      "text/plain": [
       "(768,)"
      ]
     },
     "execution_count": 6,
     "metadata": {},
     "output_type": "execute_result"
    }
   ],
   "source": [
    "y = df['Outcome']\n",
    "y.shape"
   ]
  },
  {
   "cell_type": "code",
   "execution_count": 7,
   "metadata": {},
   "outputs": [],
   "source": [
    "# 사이킷런에서 제공하는 model_selection 의 train_test_split 으로 만듭니다.\n",
    "\n",
    "from sklearn.model_selection import train_test_split\n",
    "\n",
    "X_train, X_test, y_train, y_test = train_test_split(\n",
    "    X, y, test_size=0.2, random_state=42)"
   ]
  },
  {
   "cell_type": "code",
   "execution_count": 8,
   "metadata": {},
   "outputs": [
    {
     "data": {
      "text/plain": [
       "((614, 9), (614,))"
      ]
     },
     "execution_count": 8,
     "metadata": {},
     "output_type": "execute_result"
    }
   ],
   "source": [
    "# train 세트의 문제와 정답의 데이터 수를 확인해 주세요.\n",
    "\n",
    "X_train.shape, y_train.shape"
   ]
  },
  {
   "cell_type": "code",
   "execution_count": 9,
   "metadata": {},
   "outputs": [
    {
     "data": {
      "text/plain": [
       "((154, 9), (154,))"
      ]
     },
     "execution_count": 9,
     "metadata": {},
     "output_type": "execute_result"
    }
   ],
   "source": [
    "# test 세트의 문제와 정답의 데이터 수를 확인해 주세요.\n",
    "\n",
    "X_test.shape, y_test.shape"
   ]
  },
  {
   "cell_type": "markdown",
   "metadata": {},
   "source": [
    "## 여러 개의 알고리즘을 사용해서 비교하기"
   ]
  },
  {
   "cell_type": "code",
   "execution_count": 10,
   "metadata": {},
   "outputs": [
    {
     "data": {
      "text/plain": [
       "[DecisionTreeClassifier(ccp_alpha=0.0, class_weight=None, criterion='gini',\n",
       "                        max_depth=None, max_features=None, max_leaf_nodes=None,\n",
       "                        min_impurity_decrease=0.0, min_impurity_split=None,\n",
       "                        min_samples_leaf=1, min_samples_split=2,\n",
       "                        min_weight_fraction_leaf=0.0, presort='deprecated',\n",
       "                        random_state=42, splitter='best'),\n",
       " RandomForestClassifier(bootstrap=True, ccp_alpha=0.0, class_weight=None,\n",
       "                        criterion='gini', max_depth=None, max_features='auto',\n",
       "                        max_leaf_nodes=None, max_samples=None,\n",
       "                        min_impurity_decrease=0.0, min_impurity_split=None,\n",
       "                        min_samples_leaf=1, min_samples_split=2,\n",
       "                        min_weight_fraction_leaf=0.0, n_estimators=100,\n",
       "                        n_jobs=None, oob_score=False, random_state=42, verbose=0,\n",
       "                        warm_start=False),\n",
       " GradientBoostingClassifier(ccp_alpha=0.0, criterion='friedman_mse', init=None,\n",
       "                            learning_rate=0.1, loss='deviance', max_depth=3,\n",
       "                            max_features=None, max_leaf_nodes=None,\n",
       "                            min_impurity_decrease=0.0, min_impurity_split=None,\n",
       "                            min_samples_leaf=1, min_samples_split=2,\n",
       "                            min_weight_fraction_leaf=0.0, n_estimators=100,\n",
       "                            n_iter_no_change=None, presort='deprecated',\n",
       "                            random_state=42, subsample=1.0, tol=0.0001,\n",
       "                            validation_fraction=0.1, verbose=0,\n",
       "                            warm_start=False)]"
      ]
     },
     "execution_count": 10,
     "metadata": {},
     "output_type": "execute_result"
    }
   ],
   "source": [
    "from sklearn.tree import DecisionTreeClassifier\n",
    "from sklearn.ensemble import RandomForestClassifier, GradientBoostingClassifier\n",
    "\n",
    "estimators = [DecisionTreeClassifier(random_state=42),\n",
    "             RandomForestClassifier(random_state=42),\n",
    "             GradientBoostingClassifier(random_state=42)\n",
    "            ]\n",
    "estimators"
   ]
  },
  {
   "cell_type": "code",
   "execution_count": 11,
   "metadata": {},
   "outputs": [
    {
     "data": {
      "text/plain": [
       "array([ 9, 14, 10, 15, 12, 13, 19, 14, 14, 10])"
      ]
     },
     "execution_count": 11,
     "metadata": {},
     "output_type": "execute_result"
    }
   ],
   "source": [
    "max_depth = np.random.randint(2, 20, 10)\n",
    "max_depth"
   ]
  },
  {
   "cell_type": "code",
   "execution_count": 12,
   "metadata": {},
   "outputs": [
    {
     "data": {
      "text/plain": [
       "array([0.48973513, 0.5069293 , 0.64662576, 0.49227339, 0.59475933,\n",
       "       0.67377037, 0.32271838, 0.68039516, 0.89152585, 0.44009743])"
      ]
     },
     "execution_count": 12,
     "metadata": {},
     "output_type": "execute_result"
    }
   ],
   "source": [
    "max_features = np.random.uniform(0.3, 1.0, 10)\n",
    "max_features"
   ]
  },
  {
   "cell_type": "code",
   "execution_count": 13,
   "metadata": {},
   "outputs": [
    {
     "data": {
      "text/plain": [
       "[['DecisionTreeClassifier'],\n",
       " ['RandomForestClassifier'],\n",
       " ['GradientBoostingClassifier']]"
      ]
     },
     "execution_count": 13,
     "metadata": {},
     "output_type": "execute_result"
    }
   ],
   "source": [
    "results = []\n",
    "for estimator in estimators:\n",
    "    result = []\n",
    "    result.append(estimator.__class__.__name__)\n",
    "    results.append(result)\n",
    "results"
   ]
  },
  {
   "cell_type": "code",
   "execution_count": 15,
   "metadata": {},
   "outputs": [],
   "source": [
    "# param_distributions[\"n_estimators\"] = np.random.randint(100, 1000, 10)\n",
    "# param_distributions"
   ]
  },
  {
   "cell_type": "code",
   "execution_count": 16,
   "metadata": {},
   "outputs": [
    {
     "name": "stdout",
     "output_type": "stream",
     "text": [
      "Fitting 5 folds for each of 100 candidates, totalling 500 fits\n"
     ]
    },
    {
     "name": "stderr",
     "output_type": "stream",
     "text": [
      "[Parallel(n_jobs=-1)]: Using backend LokyBackend with 4 concurrent workers.\n",
      "[Parallel(n_jobs=-1)]: Done  38 tasks      | elapsed:    1.9s\n",
      "[Parallel(n_jobs=-1)]: Done 500 out of 500 | elapsed:    3.4s finished\n",
      "[Parallel(n_jobs=-1)]: Using backend LokyBackend with 4 concurrent workers.\n"
     ]
    },
    {
     "name": "stdout",
     "output_type": "stream",
     "text": [
      "Fitting 5 folds for each of 100 candidates, totalling 500 fits\n"
     ]
    },
    {
     "name": "stderr",
     "output_type": "stream",
     "text": [
      "[Parallel(n_jobs=-1)]: Done  33 tasks      | elapsed:    5.7s\n",
      "[Parallel(n_jobs=-1)]: Done 154 tasks      | elapsed:   31.1s\n",
      "[Parallel(n_jobs=-1)]: Done 357 tasks      | elapsed:  1.3min\n",
      "[Parallel(n_jobs=-1)]: Done 500 out of 500 | elapsed:  1.8min finished\n"
     ]
    },
    {
     "name": "stdout",
     "output_type": "stream",
     "text": [
      "Fitting 5 folds for each of 100 candidates, totalling 500 fits\n"
     ]
    },
    {
     "name": "stderr",
     "output_type": "stream",
     "text": [
      "[Parallel(n_jobs=-1)]: Using backend LokyBackend with 4 concurrent workers.\n",
      "[Parallel(n_jobs=-1)]: Done  33 tasks      | elapsed:    4.3s\n",
      "[Parallel(n_jobs=-1)]: Done 154 tasks      | elapsed:   30.9s\n",
      "[Parallel(n_jobs=-1)]: Done 357 tasks      | elapsed:   55.1s\n",
      "[Parallel(n_jobs=-1)]: Done 500 out of 500 | elapsed:  1.2min finished\n"
     ]
    }
   ],
   "source": [
    "from sklearn.model_selection import RandomizedSearchCV\n",
    "\n",
    "max_depth = np.random.randint(2, 20, 10)\n",
    "max_features = np.random.uniform(0.3, 1.0, 10)\n",
    "\n",
    "param_distributions = {\"max_depth\": max_depth, \n",
    "                       \"max_features\": max_features}\n",
    "\n",
    "results = []\n",
    "for estimator in estimators:\n",
    "    result = []\n",
    "    if estimator.__class__.__name__ != 'DecisionTreeClassifier':\n",
    "        param_distributions[\"n_estimators\"] = np.random.randint(100, 200, 10)\n",
    "        \n",
    "    clf = RandomizedSearchCV(estimator, \n",
    "                       param_distributions, \n",
    "                       n_iter=100,\n",
    "                       scoring=\"accuracy\",\n",
    "                       n_jobs=-1,\n",
    "                       cv=5, \n",
    "                       verbose=2\n",
    "                      )\n",
    "\n",
    "    clf.fit(X_train, y_train)\n",
    "    result.append(estimator.__class__.__name__)\n",
    "    result.append(clf.best_params_)\n",
    "    result.append(clf.best_score_)\n",
    "    result.append(clf.score(X_test, y_test))\n",
    "    result.append(clf.cv_results_)\n",
    "    results.append(result)"
   ]
  },
  {
   "cell_type": "code",
   "execution_count": 17,
   "metadata": {},
   "outputs": [
    {
     "data": {
      "text/html": [
       "<div>\n",
       "<style scoped>\n",
       "    .dataframe tbody tr th:only-of-type {\n",
       "        vertical-align: middle;\n",
       "    }\n",
       "\n",
       "    .dataframe tbody tr th {\n",
       "        vertical-align: top;\n",
       "    }\n",
       "\n",
       "    .dataframe thead th {\n",
       "        text-align: right;\n",
       "    }\n",
       "</style>\n",
       "<table border=\"1\" class=\"dataframe\">\n",
       "  <thead>\n",
       "    <tr style=\"text-align: right;\">\n",
       "      <th></th>\n",
       "      <th>estimator</th>\n",
       "      <th>best_params</th>\n",
       "      <th>train_score</th>\n",
       "      <th>test_score</th>\n",
       "      <th>cv_result</th>\n",
       "    </tr>\n",
       "  </thead>\n",
       "  <tbody>\n",
       "    <tr>\n",
       "      <th>0</th>\n",
       "      <td>DecisionTreeClassifier</td>\n",
       "      <td>{'max_features': 0.8771000134112883, 'max_dept...</td>\n",
       "      <td>0.868106</td>\n",
       "      <td>0.876623</td>\n",
       "      <td>{'mean_fit_time': [0.007985877990722656, 0.009...</td>\n",
       "    </tr>\n",
       "    <tr>\n",
       "      <th>1</th>\n",
       "      <td>RandomForestClassifier</td>\n",
       "      <td>{'n_estimators': 178, 'max_features': 0.664668...</td>\n",
       "      <td>0.905598</td>\n",
       "      <td>0.863636</td>\n",
       "      <td>{'mean_fit_time': [0.41252694129943845, 0.4271...</td>\n",
       "    </tr>\n",
       "    <tr>\n",
       "      <th>2</th>\n",
       "      <td>GradientBoostingClassifier</td>\n",
       "      <td>{'n_estimators': 152, 'max_features': 0.647914...</td>\n",
       "      <td>0.903932</td>\n",
       "      <td>0.876623</td>\n",
       "      <td>{'mean_fit_time': [0.3697635650634766, 0.31516...</td>\n",
       "    </tr>\n",
       "  </tbody>\n",
       "</table>\n",
       "</div>"
      ],
      "text/plain": [
       "                    estimator  \\\n",
       "0      DecisionTreeClassifier   \n",
       "1      RandomForestClassifier   \n",
       "2  GradientBoostingClassifier   \n",
       "\n",
       "                                         best_params  train_score  test_score  \\\n",
       "0  {'max_features': 0.8771000134112883, 'max_dept...     0.868106    0.876623   \n",
       "1  {'n_estimators': 178, 'max_features': 0.664668...     0.905598    0.863636   \n",
       "2  {'n_estimators': 152, 'max_features': 0.647914...     0.903932    0.876623   \n",
       "\n",
       "                                           cv_result  \n",
       "0  {'mean_fit_time': [0.007985877990722656, 0.009...  \n",
       "1  {'mean_fit_time': [0.41252694129943845, 0.4271...  \n",
       "2  {'mean_fit_time': [0.3697635650634766, 0.31516...  "
      ]
     },
     "execution_count": 17,
     "metadata": {},
     "output_type": "execute_result"
    }
   ],
   "source": [
    "df = pd.DataFrame(results, \n",
    "             columns=[\"estimator\", \"best_params\", \"train_score\", \"test_score\", \"cv_result\"])\n",
    "df"
   ]
  },
  {
   "cell_type": "code",
   "execution_count": 18,
   "metadata": {},
   "outputs": [
    {
     "data": {
      "text/html": [
       "<div>\n",
       "<style scoped>\n",
       "    .dataframe tbody tr th:only-of-type {\n",
       "        vertical-align: middle;\n",
       "    }\n",
       "\n",
       "    .dataframe tbody tr th {\n",
       "        vertical-align: top;\n",
       "    }\n",
       "\n",
       "    .dataframe thead th {\n",
       "        text-align: right;\n",
       "    }\n",
       "</style>\n",
       "<table border=\"1\" class=\"dataframe\">\n",
       "  <thead>\n",
       "    <tr style=\"text-align: right;\">\n",
       "      <th></th>\n",
       "      <th>mean_fit_time</th>\n",
       "      <th>std_fit_time</th>\n",
       "      <th>mean_score_time</th>\n",
       "      <th>std_score_time</th>\n",
       "      <th>param_n_estimators</th>\n",
       "      <th>param_max_features</th>\n",
       "      <th>param_max_depth</th>\n",
       "      <th>params</th>\n",
       "      <th>split0_test_score</th>\n",
       "      <th>split1_test_score</th>\n",
       "      <th>split2_test_score</th>\n",
       "      <th>split3_test_score</th>\n",
       "      <th>split4_test_score</th>\n",
       "      <th>mean_test_score</th>\n",
       "      <th>std_test_score</th>\n",
       "      <th>rank_test_score</th>\n",
       "    </tr>\n",
       "  </thead>\n",
       "  <tbody>\n",
       "    <tr>\n",
       "      <th>62</th>\n",
       "      <td>1.653871</td>\n",
       "      <td>0.103500</td>\n",
       "      <td>0.094686</td>\n",
       "      <td>0.049638</td>\n",
       "      <td>178</td>\n",
       "      <td>0.664668</td>\n",
       "      <td>10</td>\n",
       "      <td>{'n_estimators': 178, 'max_features': 0.664668...</td>\n",
       "      <td>0.886179</td>\n",
       "      <td>0.934959</td>\n",
       "      <td>0.861789</td>\n",
       "      <td>0.902439</td>\n",
       "      <td>0.942623</td>\n",
       "      <td>0.905598</td>\n",
       "      <td>0.030131</td>\n",
       "      <td>1</td>\n",
       "    </tr>\n",
       "    <tr>\n",
       "      <th>17</th>\n",
       "      <td>0.952570</td>\n",
       "      <td>0.096347</td>\n",
       "      <td>0.059322</td>\n",
       "      <td>0.021703</td>\n",
       "      <td>185</td>\n",
       "      <td>0.647915</td>\n",
       "      <td>12</td>\n",
       "      <td>{'n_estimators': 185, 'max_features': 0.647914...</td>\n",
       "      <td>0.878049</td>\n",
       "      <td>0.934959</td>\n",
       "      <td>0.853659</td>\n",
       "      <td>0.902439</td>\n",
       "      <td>0.950820</td>\n",
       "      <td>0.903985</td>\n",
       "      <td>0.035667</td>\n",
       "      <td>2</td>\n",
       "    </tr>\n",
       "    <tr>\n",
       "      <th>67</th>\n",
       "      <td>0.870798</td>\n",
       "      <td>0.036109</td>\n",
       "      <td>0.044989</td>\n",
       "      <td>0.021044</td>\n",
       "      <td>120</td>\n",
       "      <td>0.8771</td>\n",
       "      <td>7</td>\n",
       "      <td>{'n_estimators': 120, 'max_features': 0.877100...</td>\n",
       "      <td>0.886179</td>\n",
       "      <td>0.934959</td>\n",
       "      <td>0.869919</td>\n",
       "      <td>0.886179</td>\n",
       "      <td>0.942623</td>\n",
       "      <td>0.903972</td>\n",
       "      <td>0.029144</td>\n",
       "      <td>3</td>\n",
       "    </tr>\n",
       "    <tr>\n",
       "      <th>22</th>\n",
       "      <td>0.498117</td>\n",
       "      <td>0.031686</td>\n",
       "      <td>0.033009</td>\n",
       "      <td>0.008307</td>\n",
       "      <td>113</td>\n",
       "      <td>0.707112</td>\n",
       "      <td>12</td>\n",
       "      <td>{'n_estimators': 113, 'max_features': 0.707112...</td>\n",
       "      <td>0.869919</td>\n",
       "      <td>0.943089</td>\n",
       "      <td>0.861789</td>\n",
       "      <td>0.902439</td>\n",
       "      <td>0.942623</td>\n",
       "      <td>0.903972</td>\n",
       "      <td>0.034541</td>\n",
       "      <td>4</td>\n",
       "    </tr>\n",
       "    <tr>\n",
       "      <th>45</th>\n",
       "      <td>0.942813</td>\n",
       "      <td>0.078533</td>\n",
       "      <td>0.043936</td>\n",
       "      <td>0.021832</td>\n",
       "      <td>120</td>\n",
       "      <td>0.964839</td>\n",
       "      <td>10</td>\n",
       "      <td>{'n_estimators': 120, 'max_features': 0.964839...</td>\n",
       "      <td>0.886179</td>\n",
       "      <td>0.943089</td>\n",
       "      <td>0.861789</td>\n",
       "      <td>0.902439</td>\n",
       "      <td>0.926230</td>\n",
       "      <td>0.903945</td>\n",
       "      <td>0.028719</td>\n",
       "      <td>5</td>\n",
       "    </tr>\n",
       "    <tr>\n",
       "      <th>...</th>\n",
       "      <td>...</td>\n",
       "      <td>...</td>\n",
       "      <td>...</td>\n",
       "      <td>...</td>\n",
       "      <td>...</td>\n",
       "      <td>...</td>\n",
       "      <td>...</td>\n",
       "      <td>...</td>\n",
       "      <td>...</td>\n",
       "      <td>...</td>\n",
       "      <td>...</td>\n",
       "      <td>...</td>\n",
       "      <td>...</td>\n",
       "      <td>...</td>\n",
       "      <td>...</td>\n",
       "      <td>...</td>\n",
       "    </tr>\n",
       "    <tr>\n",
       "      <th>33</th>\n",
       "      <td>1.141660</td>\n",
       "      <td>0.053761</td>\n",
       "      <td>0.096402</td>\n",
       "      <td>0.037491</td>\n",
       "      <td>113</td>\n",
       "      <td>0.83979</td>\n",
       "      <td>3</td>\n",
       "      <td>{'n_estimators': 113, 'max_features': 0.839790...</td>\n",
       "      <td>0.837398</td>\n",
       "      <td>0.918699</td>\n",
       "      <td>0.821138</td>\n",
       "      <td>0.861789</td>\n",
       "      <td>0.950820</td>\n",
       "      <td>0.877969</td>\n",
       "      <td>0.049201</td>\n",
       "      <td>94</td>\n",
       "    </tr>\n",
       "    <tr>\n",
       "      <th>52</th>\n",
       "      <td>0.614270</td>\n",
       "      <td>0.157472</td>\n",
       "      <td>0.024220</td>\n",
       "      <td>0.003973</td>\n",
       "      <td>113</td>\n",
       "      <td>0.953716</td>\n",
       "      <td>3</td>\n",
       "      <td>{'n_estimators': 113, 'max_features': 0.953715...</td>\n",
       "      <td>0.845528</td>\n",
       "      <td>0.910569</td>\n",
       "      <td>0.829268</td>\n",
       "      <td>0.853659</td>\n",
       "      <td>0.942623</td>\n",
       "      <td>0.876329</td>\n",
       "      <td>0.042999</td>\n",
       "      <td>97</td>\n",
       "    </tr>\n",
       "    <tr>\n",
       "      <th>78</th>\n",
       "      <td>0.438224</td>\n",
       "      <td>0.020783</td>\n",
       "      <td>0.024683</td>\n",
       "      <td>0.002085</td>\n",
       "      <td>135</td>\n",
       "      <td>0.953716</td>\n",
       "      <td>3</td>\n",
       "      <td>{'n_estimators': 135, 'max_features': 0.953715...</td>\n",
       "      <td>0.845528</td>\n",
       "      <td>0.918699</td>\n",
       "      <td>0.821138</td>\n",
       "      <td>0.853659</td>\n",
       "      <td>0.934426</td>\n",
       "      <td>0.874690</td>\n",
       "      <td>0.043968</td>\n",
       "      <td>98</td>\n",
       "    </tr>\n",
       "    <tr>\n",
       "      <th>7</th>\n",
       "      <td>0.616953</td>\n",
       "      <td>0.171732</td>\n",
       "      <td>0.027198</td>\n",
       "      <td>0.009558</td>\n",
       "      <td>120</td>\n",
       "      <td>0.953716</td>\n",
       "      <td>3</td>\n",
       "      <td>{'n_estimators': 120, 'max_features': 0.953715...</td>\n",
       "      <td>0.845528</td>\n",
       "      <td>0.910569</td>\n",
       "      <td>0.829268</td>\n",
       "      <td>0.853659</td>\n",
       "      <td>0.934426</td>\n",
       "      <td>0.874690</td>\n",
       "      <td>0.040525</td>\n",
       "      <td>98</td>\n",
       "    </tr>\n",
       "    <tr>\n",
       "      <th>96</th>\n",
       "      <td>1.230962</td>\n",
       "      <td>0.067927</td>\n",
       "      <td>0.074041</td>\n",
       "      <td>0.011670</td>\n",
       "      <td>189</td>\n",
       "      <td>0.938621</td>\n",
       "      <td>3</td>\n",
       "      <td>{'n_estimators': 189, 'max_features': 0.938620...</td>\n",
       "      <td>0.845528</td>\n",
       "      <td>0.918699</td>\n",
       "      <td>0.804878</td>\n",
       "      <td>0.861789</td>\n",
       "      <td>0.934426</td>\n",
       "      <td>0.873064</td>\n",
       "      <td>0.047713</td>\n",
       "      <td>100</td>\n",
       "    </tr>\n",
       "  </tbody>\n",
       "</table>\n",
       "<p>100 rows × 16 columns</p>\n",
       "</div>"
      ],
      "text/plain": [
       "    mean_fit_time  std_fit_time  mean_score_time  std_score_time  \\\n",
       "62       1.653871      0.103500         0.094686        0.049638   \n",
       "17       0.952570      0.096347         0.059322        0.021703   \n",
       "67       0.870798      0.036109         0.044989        0.021044   \n",
       "22       0.498117      0.031686         0.033009        0.008307   \n",
       "45       0.942813      0.078533         0.043936        0.021832   \n",
       "..            ...           ...              ...             ...   \n",
       "33       1.141660      0.053761         0.096402        0.037491   \n",
       "52       0.614270      0.157472         0.024220        0.003973   \n",
       "78       0.438224      0.020783         0.024683        0.002085   \n",
       "7        0.616953      0.171732         0.027198        0.009558   \n",
       "96       1.230962      0.067927         0.074041        0.011670   \n",
       "\n",
       "   param_n_estimators param_max_features param_max_depth  \\\n",
       "62                178           0.664668              10   \n",
       "17                185           0.647915              12   \n",
       "67                120             0.8771               7   \n",
       "22                113           0.707112              12   \n",
       "45                120           0.964839              10   \n",
       "..                ...                ...             ...   \n",
       "33                113            0.83979               3   \n",
       "52                113           0.953716               3   \n",
       "78                135           0.953716               3   \n",
       "7                 120           0.953716               3   \n",
       "96                189           0.938621               3   \n",
       "\n",
       "                                               params  split0_test_score  \\\n",
       "62  {'n_estimators': 178, 'max_features': 0.664668...           0.886179   \n",
       "17  {'n_estimators': 185, 'max_features': 0.647914...           0.878049   \n",
       "67  {'n_estimators': 120, 'max_features': 0.877100...           0.886179   \n",
       "22  {'n_estimators': 113, 'max_features': 0.707112...           0.869919   \n",
       "45  {'n_estimators': 120, 'max_features': 0.964839...           0.886179   \n",
       "..                                                ...                ...   \n",
       "33  {'n_estimators': 113, 'max_features': 0.839790...           0.837398   \n",
       "52  {'n_estimators': 113, 'max_features': 0.953715...           0.845528   \n",
       "78  {'n_estimators': 135, 'max_features': 0.953715...           0.845528   \n",
       "7   {'n_estimators': 120, 'max_features': 0.953715...           0.845528   \n",
       "96  {'n_estimators': 189, 'max_features': 0.938620...           0.845528   \n",
       "\n",
       "    split1_test_score  split2_test_score  split3_test_score  \\\n",
       "62           0.934959           0.861789           0.902439   \n",
       "17           0.934959           0.853659           0.902439   \n",
       "67           0.934959           0.869919           0.886179   \n",
       "22           0.943089           0.861789           0.902439   \n",
       "45           0.943089           0.861789           0.902439   \n",
       "..                ...                ...                ...   \n",
       "33           0.918699           0.821138           0.861789   \n",
       "52           0.910569           0.829268           0.853659   \n",
       "78           0.918699           0.821138           0.853659   \n",
       "7            0.910569           0.829268           0.853659   \n",
       "96           0.918699           0.804878           0.861789   \n",
       "\n",
       "    split4_test_score  mean_test_score  std_test_score  rank_test_score  \n",
       "62           0.942623         0.905598        0.030131                1  \n",
       "17           0.950820         0.903985        0.035667                2  \n",
       "67           0.942623         0.903972        0.029144                3  \n",
       "22           0.942623         0.903972        0.034541                4  \n",
       "45           0.926230         0.903945        0.028719                5  \n",
       "..                ...              ...             ...              ...  \n",
       "33           0.950820         0.877969        0.049201               94  \n",
       "52           0.942623         0.876329        0.042999               97  \n",
       "78           0.934426         0.874690        0.043968               98  \n",
       "7            0.934426         0.874690        0.040525               98  \n",
       "96           0.934426         0.873064        0.047713              100  \n",
       "\n",
       "[100 rows x 16 columns]"
      ]
     },
     "execution_count": 18,
     "metadata": {},
     "output_type": "execute_result"
    }
   ],
   "source": [
    "pd.DataFrame(df.loc[1, \"cv_result\"]).sort_values(by=\"rank_test_score\")"
   ]
  },
  {
   "cell_type": "code",
   "execution_count": null,
   "metadata": {},
   "outputs": [],
   "source": []
  },
  {
   "cell_type": "code",
   "execution_count": null,
   "metadata": {},
   "outputs": [],
   "source": []
  },
  {
   "cell_type": "code",
   "execution_count": null,
   "metadata": {},
   "outputs": [],
   "source": []
  },
  {
   "cell_type": "code",
   "execution_count": null,
   "metadata": {},
   "outputs": [],
   "source": []
  },
  {
   "cell_type": "code",
   "execution_count": null,
   "metadata": {},
   "outputs": [],
   "source": []
  },
  {
   "cell_type": "code",
   "execution_count": null,
   "metadata": {},
   "outputs": [],
   "source": []
  }
 ],
 "metadata": {
  "kernelspec": {
   "display_name": "Python 3",
   "language": "python",
   "name": "python3"
  },
  "language_info": {
   "codemirror_mode": {
    "name": "ipython",
    "version": 3
   },
   "file_extension": ".py",
   "mimetype": "text/x-python",
   "name": "python",
   "nbconvert_exporter": "python",
   "pygments_lexer": "ipython3",
   "version": "3.7.6"
  },
  "toc": {
   "base_numbering": 1,
   "nav_menu": {},
   "number_sections": true,
   "sideBar": true,
   "skip_h1_title": false,
   "title_cell": "Table of Contents",
   "title_sidebar": "Contents",
   "toc_cell": false,
   "toc_position": {},
   "toc_section_display": true,
   "toc_window_display": false
  },
  "varInspector": {
   "cols": {
    "lenName": 16,
    "lenType": 16,
    "lenVar": 40
   },
   "kernels_config": {
    "python": {
     "delete_cmd_postfix": "",
     "delete_cmd_prefix": "del ",
     "library": "var_list.py",
     "varRefreshCmd": "print(var_dic_list())"
    },
    "r": {
     "delete_cmd_postfix": ") ",
     "delete_cmd_prefix": "rm(",
     "library": "var_list.r",
     "varRefreshCmd": "cat(var_dic_list()) "
    }
   },
   "types_to_exclude": [
    "module",
    "function",
    "builtin_function_or_method",
    "instance",
    "_Feature"
   ],
   "window_display": false
  }
 },
 "nbformat": 4,
 "nbformat_minor": 4
}
